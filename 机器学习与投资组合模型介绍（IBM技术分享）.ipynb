{
 "cells": [
  {
   "cell_type": "markdown",
   "metadata": {},
   "source": [
    "### 投资组合模型介绍\n",
    "- 针对股票投资进行组合优化"
   ]
  },
  {
   "cell_type": "markdown",
   "metadata": {},
   "source": [
    "#### 投资学基础\n",
    "- 投资学 波动就是风险\n",
    "- 投资学风险分成两部分\n",
    "    - 系统风险 共性的 不可分散的风险\n",
    "    - 非系统风险\n",
    "#### 有效市场假设\n",
    "\n",
    "#### 马科维茨的期望-方差模型\n",
    "\n",
    "#### 均值-方差模型的凸优化数学模型\n",
    "- 做到最大化收益，最小化风险\n",
    "- 这是一个凸优化问题\n",
    "- 给定预定预期收益率我们写成二次规划模型\n"
   ]
  },
  {
   "cell_type": "markdown",
   "metadata": {},
   "source": [
    "#### 实现 IBM DSX\n",
    "- 数据规划 运筹学的数学规划是用来解决在资源有限的情况下 如何进行有效分配和利用，从而达到最佳效果的问题解决方案\n",
    "- IBM CPLEX 可以帮助处理各种资源优化问题"
   ]
  },
  {
   "cell_type": "code",
   "execution_count": null,
   "metadata": {},
   "outputs": [],
   "source": []
  }
 ],
 "metadata": {
  "kernelspec": {
   "display_name": "Python 3",
   "language": "python",
   "name": "python3"
  },
  "language_info": {
   "codemirror_mode": {
    "name": "ipython",
    "version": 3
   },
   "file_extension": ".py",
   "mimetype": "text/x-python",
   "name": "python",
   "nbconvert_exporter": "python",
   "pygments_lexer": "ipython3",
   "version": "3.5.4"
  }
 },
 "nbformat": 4,
 "nbformat_minor": 2
}
